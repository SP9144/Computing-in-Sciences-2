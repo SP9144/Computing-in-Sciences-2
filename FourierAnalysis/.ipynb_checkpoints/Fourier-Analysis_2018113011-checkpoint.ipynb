{
 "cells": [
  {
   "cell_type": "markdown",
   "metadata": {},
   "source": [
    "# Shreeya Pahune\n",
    "## 2018113011\n",
    "\n",
    "### Fourier Series"
   ]
  },
  {
   "cell_type": "code",
   "execution_count": 1,
   "metadata": {},
   "outputs": [],
   "source": [
    "import numpy as np\n",
    "import matplotlib.pyplot as plt\n",
    "import math\n",
    "import cmath"
   ]
  },
  {
   "cell_type": "code",
   "execution_count": 10,
   "metadata": {},
   "outputs": [],
   "source": [
    "\n",
    "    def plotgraphs(self, x, y):\n",
    "        X,Y=findcoeff(x,y)\n",
    "        X1=[]\n",
    "        Y1=[]\n",
    "        X2=[]\n",
    "        Y2=[]\n",
    "        for i in np.arange(0,1,0.001):\n",
    "            X1.append(X(i))\n",
    "            X2.append(x(i))\n",
    "            Y1.append(Y(i))\n",
    "            Y2.append(y(i))\n",
    "        plt.plot(X1, Y1)\n",
    "        plt.plot(X2, Y2)\n",
    "        plt.show()\n",
    "        \n",
    "    def findcoeff(zvals, app):       \n",
    "        tvals=np.linspace(0,1,np.shape(zvals)[0])\n",
    "        print(\"shape\", np.shape(zvals)[0])\n",
    "        dist=tvals[1]-tvals[0]\n",
    "        coeffs=[]\n",
    "        for i in range(-app,app,1):\n",
    "            coeffs.append(np.sum(zvals[:-1]*np.exp(-1j*2*np.pi*i*tvals[:-1]))*dist)\n",
    "        return coeffs\n",
    "    \n",
    "    def plotgraphs_2D(coeffs, num, app):\n",
    "        tvals=np.linspace(0,1, num)\n",
    "        zvals=np.zeros((num,), dtype=complex)\n",
    "\n",
    "        for i in range(-app,app):\n",
    "            zvals= zvals + coeffs[i + app] * np.exp(2j*np.pi*i*tvals)\n",
    "\n",
    "        plt.plot(zvals.real, zvals.imag, label='fourier')\n",
    "        \n",
    "        \n",
    "        "
   ]
  },
  {
   "cell_type": "code",
   "execution_count": 11,
   "metadata": {},
   "outputs": [],
   "source": [
    "tvals=np.linspace(0,1,100)\n",
    "zvals_ellipse=0.5 *np.exp( 2j * np.pi *tvals) + np.exp( - 1 * 2j * np.pi * tvals)"
   ]
  },
  {
   "cell_type": "code",
   "execution_count": 12,
   "metadata": {},
   "outputs": [
    {
     "data": {
      "text/plain": [
       "(-1.6492070542535164,\n",
       " 1.6499622406787389,\n",
       " -0.5499307702206313,\n",
       " 0.5499307702206313)"
      ]
     },
     "execution_count": 12,
     "metadata": {},
     "output_type": "execute_result"
    },
    {
     "data": {
      "image/png": "[encoded data removed]",
      "text/plain": [
       "<Figure size 432x288 with 1 Axes>"
      ]
     },
     "metadata": {
      "needs_background": "light"
     },
     "output_type": "display_data"
    }
   ],
   "source": [
    "plt.plot(zvals_ellipse.real, zvals_ellipse.imag)\n",
    "plt.axis('scaled')"
   ]
  },
  {
   "cell_type": "code",
   "execution_count": 13,
   "metadata": {},
   "outputs": [
    {
     "name": "stdout",
     "output_type": "stream",
     "text": [
      "shape 27\n"
     ]
    },
    {
     "data": {
      "text/plain": [
       "[(-0.45867195472602573-0.31234914044137974j),\n",
       " (0.3122823931184467-0.1719018973127444j),\n",
       " (-0.7874487890540495-0.4618863589732598j),\n",
       " (-0.8011455499425933-0.2724682214300513j),\n",
       " (0.021343800580084987+0.3593051004666175j),\n",
       " (0.0252207703787317-0.3440772192984401j),\n",
       " (-1.9708013766473433+6.0857653963436364j),\n",
       " (-0.36561611727333454+0.8667159157173572j),\n",
       " (-8.269383276554953+4.457214030400688j),\n",
       " (2.1341534238924704-3.8121995246178337j),\n",
       " (102.71339723076923+92.09923442307694j),\n",
       " (13.69795580564677-41.05742543913232j),\n",
       " (-0.08586648874840573+3.2844226549813142j),\n",
       " (-4.475264196939719+2.919450639552808j),\n",
       " (0.4588661714682945+0.2890099584038398j),\n",
       " (-3.5171498827649694+0.12110483353765089j),\n",
       " (-0.03557690657972264+0.7546733985788395j),\n",
       " (-0.8726611651358979-0.6503864959953162j),\n",
       " (-0.3710227126529966-0.09755808442030821j),\n",
       " (0.01727100787438802+0.408919093334557j)]"
      ]
     },
     "execution_count": 13,
     "metadata": {},
     "output_type": "execute_result"
    }
   ],
   "source": [
    "fhut = np.loadtxt(\"hut-xy.dat\")\n",
    "zvals = fhut[:,0] + 1j*fhut[:,1]\n",
    "\n",
    "findcoeff(zvals, 10)"
   ]
  },
  {
   "cell_type": "code",
   "execution_count": null,
   "metadata": {},
   "outputs": [
    {
     "name": "stdout",
     "output_type": "stream",
     "text": [
      "shape 27\n"
     ]
    },
    {
     "data": {
      "text/plain": [
       "<matplotlib.legend.Legend at 0x7fc0c4cbb710>"
      ]
     },
     "execution_count": 14,
     "metadata": {},
     "output_type": "execute_result"
    }
   ],
   "source": [
    "plotgraphs_2D(findcoeff(zvals, 10), 70, 10)\n",
    "plt.plot(zvals.real, zvals.imag, label='actual')\n",
    "plt.legend()"
   ]
  },
  {
   "cell_type": "code",
   "execution_count": 8,
   "metadata": {},
   "outputs": [
    {
     "ename": "NameError",
     "evalue": "name 'findcoeff' is not defined",
     "output_type": "error",
     "traceback": [
      "\u001b[0;31m---------------------------------------------------------------------------\u001b[0m",
      "\u001b[0;31mNameError\u001b[0m                                 Traceback (most recent call last)",
      "\u001b[0;32m<ipython-input-8-b2b237e8561d>\u001b[0m in \u001b[0;36m<module>\u001b[0;34m\u001b[0m\n\u001b[1;32m      2\u001b[0m \u001b[0mzvals\u001b[0m \u001b[0;34m=\u001b[0m \u001b[0mfpi\u001b[0m\u001b[0;34m[\u001b[0m\u001b[0;34m:\u001b[0m\u001b[0;34m,\u001b[0m\u001b[0;36m0\u001b[0m\u001b[0;34m]\u001b[0m \u001b[0;34m+\u001b[0m \u001b[0;36m1j\u001b[0m\u001b[0;34m*\u001b[0m\u001b[0mfpi\u001b[0m\u001b[0;34m[\u001b[0m\u001b[0;34m:\u001b[0m\u001b[0;34m,\u001b[0m\u001b[0;36m1\u001b[0m\u001b[0;34m]\u001b[0m\u001b[0;34m\u001b[0m\u001b[0;34m\u001b[0m\u001b[0m\n\u001b[1;32m      3\u001b[0m \u001b[0;34m\u001b[0m\u001b[0m\n\u001b[0;32m----> 4\u001b[0;31m \u001b[0mfindcoeff\u001b[0m\u001b[0;34m(\u001b[0m\u001b[0mzvals\u001b[0m\u001b[0;34m,\u001b[0m \u001b[0;36m10\u001b[0m\u001b[0;34m)\u001b[0m\u001b[0;34m\u001b[0m\u001b[0;34m\u001b[0m\u001b[0m\n\u001b[0m",
      "\u001b[0;31mNameError\u001b[0m: name 'findcoeff' is not defined"
     ]
    }
   ],
   "source": [
    "fpi = np.loadtxt(\"pi-3.dat\")\n",
    "zvals = fpi[:,0] + 1j*fpi[:,1]\n",
    "\n",
    "findcoeff(zvals, 10)"
   ]
  },
  {
   "cell_type": "code",
   "execution_count": 9,
   "metadata": {},
   "outputs": [
    {
     "ename": "NameError",
     "evalue": "name 'findcoeff' is not defined",
     "output_type": "error",
     "traceback": [
      "\u001b[0;31m---------------------------------------------------------------------------\u001b[0m",
      "\u001b[0;31mNameError\u001b[0m                                 Traceback (most recent call last)",
      "\u001b[0;32m<ipython-input-9-5718cc5663f1>\u001b[0m in \u001b[0;36m<module>\u001b[0;34m\u001b[0m\n\u001b[0;32m----> 1\u001b[0;31m \u001b[0mplotgraphs_2D\u001b[0m\u001b[0;34m(\u001b[0m\u001b[0mfindcoeff\u001b[0m\u001b[0;34m(\u001b[0m\u001b[0mzvals\u001b[0m\u001b[0;34m,\u001b[0m \u001b[0;36m10\u001b[0m\u001b[0;34m)\u001b[0m\u001b[0;34m,\u001b[0m \u001b[0;36m70\u001b[0m\u001b[0;34m,\u001b[0m \u001b[0;36m10\u001b[0m\u001b[0;34m)\u001b[0m\u001b[0;34m\u001b[0m\u001b[0;34m\u001b[0m\u001b[0m\n\u001b[0m\u001b[1;32m      2\u001b[0m \u001b[0mplt\u001b[0m\u001b[0;34m.\u001b[0m\u001b[0mplot\u001b[0m\u001b[0;34m(\u001b[0m\u001b[0mzvals\u001b[0m\u001b[0;34m.\u001b[0m\u001b[0mreal\u001b[0m\u001b[0;34m,\u001b[0m \u001b[0mzvals\u001b[0m\u001b[0;34m.\u001b[0m\u001b[0mimag\u001b[0m\u001b[0;34m,\u001b[0m \u001b[0mlabel\u001b[0m\u001b[0;34m=\u001b[0m\u001b[0;34m'actual'\u001b[0m\u001b[0;34m)\u001b[0m\u001b[0;34m\u001b[0m\u001b[0;34m\u001b[0m\u001b[0m\n\u001b[1;32m      3\u001b[0m \u001b[0mplt\u001b[0m\u001b[0;34m.\u001b[0m\u001b[0mlegend\u001b[0m\u001b[0;34m(\u001b[0m\u001b[0;34m)\u001b[0m\u001b[0;34m\u001b[0m\u001b[0;34m\u001b[0m\u001b[0m\n",
      "\u001b[0;31mNameError\u001b[0m: name 'findcoeff' is not defined"
     ]
    }
   ],
   "source": [
    "plotgraphs_2D(findcoeff(zvals, 10), 70, 10)\n",
    "plt.plot(zvals.real, zvals.imag, label='actual')\n",
    "plt.legend()"
   ]
  },
  {
   "cell_type": "code",
   "execution_count": null,
   "metadata": {},
   "outputs": [],
   "source": []
  }
 ],
 "metadata": {
  "kernelspec": {
   "display_name": "Python 3",
   "language": "python",
   "name": "python3"
  },
  "language_info": {
   "codemirror_mode": {
    "name": "ipython",
    "version": 3
   },
   "file_extension": ".py",
   "mimetype": "text/x-python",
   "name": "python",
   "nbconvert_exporter": "python",
   "pygments_lexer": "ipython3",
   "version": "3.6.7"
  }
 },
 "nbformat": 4,
 "nbformat_minor": 2
}
