{
 "cells": [
  {
   "cell_type": "markdown",
   "metadata": {},
   "source": [
    " PROBLEM 1"
   ]
  },
  {
   "cell_type": "code",
   "execution_count": 1,
   "metadata": {},
   "outputs": [
    {
     "name": "stdout",
     "output_type": "stream",
     "text": [
      "Hello World\n"
     ]
    }
   ],
   "source": [
    "print(\"Hello World\")"
   ]
  },
  {
   "cell_type": "code",
   "execution_count": 5,
   "metadata": {},
   "outputs": [
    {
     "name": "stdout",
     "output_type": "stream",
     "text": [
      "10\n",
      "Sum of first N numbers\n",
      "45\n",
      "Sum of squares first N numbers\n",
      "285\n",
      "Wrong\n"
     ]
    }
   ],
   "source": [
    "N = int(input()) \n",
    "\n",
    "def calc(N):\n",
    "\n",
    "    sumn=sumsq=0\n",
    "    print(\"Sum of first N numbers\")\n",
    "    for i in range(N):\n",
    "        sumn+=i\n",
    "    print(sumn)\n",
    "\n",
    "    print(\"Sum of squares first N numbers\")\n",
    "    for i in range(N):\n",
    "        sumsq+=i*i\n",
    "    print(sumsq)\n",
    "    verify(sumn)\n",
    "\n",
    "def verify(sumn):\n",
    "\n",
    "    sum1 = N*(N+1)/2\n",
    "    \n",
    "    if sum1 == sumn:\n",
    "        print(\"Correct\")  \n",
    "    else:\n",
    "        print(\"Wrong\")\n",
    "        \n",
    "calc(N)\n"
   ]
  },
  {
   "cell_type": "code",
   "execution_count": 3,
   "metadata": {},
   "outputs": [
    {
     "data": {
      "image/png": "[encoded data removed]",
      "text/plain": [
       "<Figure size 432x288 with 1 Axes>"
      ]
     },
     "metadata": {
      "needs_background": "light"
     },
     "output_type": "display_data"
    },
    {
     "data": {
      "image/png": "[encoded data removed]",
      "text/plain": [
       "<Figure size 432x288 with 1 Axes>"
      ]
     },
     "metadata": {
      "needs_background": "light"
     },
     "output_type": "display_data"
    }
   ],
   "source": [
    "\n",
    "import numpy as np\n",
    "import matplotlib.pyplot as plt\n",
    "\n",
    "x=np.arange(-4, 4, 0.001)\n",
    "y=np.sqrt(16-(x*x))\n",
    "\n",
    "plt.scatter(x,y, c='b')\n",
    "plt.scatter(x,-y, c='b')\n",
    "plt.show()\n",
    "\n",
    "a=np.arange(0, 10, 0.001)\n",
    "b=np.sqrt(a/2)\n",
    "\n",
    "plt.scatter(a,b, c='r')\n",
    "plt.scatter(a,-b, c='r')\n",
    "plt.show()"
   ]
  },
  {
   "cell_type": "markdown",
   "metadata": {},
   "source": [
    "PROBLEM 2"
   ]
  },
  {
   "cell_type": "code",
   "execution_count": 36,
   "metadata": {
    "scrolled": true
   },
   "outputs": [
    {
     "name": "stdout",
     "output_type": "stream",
     "text": [
      "5\n",
      "5\n",
      "Correct\n"
     ]
    }
   ],
   "source": [
    " def fib_iter(n):\n",
    "    n1 = 0\n",
    "    n2 = 1\n",
    "\n",
    "    if n==0:\n",
    "        n3=0\n",
    "    elif n == 1:\n",
    "        n3=1\n",
    "    else:\n",
    "        for i in range(n):\n",
    "            n3 = n1 + n2\n",
    "            n1 = n2\n",
    "            n2 = n3\n",
    "    print(n1)\n",
    "    fib_check(n1)\n",
    "    \n",
    "def fib_recur(n): \n",
    "    \n",
    "    if n==0: \n",
    "        return 0\n",
    "    elif n==1: \n",
    "        return 1\n",
    "    else: \n",
    "        return fib_recur(n-1)+fib_recur(n-2) \n",
    "    \n",
    "def fib_check(n2):\n",
    "    print(fib_recur(5))\n",
    "    if n2 == fib_recur(5):\n",
    "        print(\"Correct\")  \n",
    "    else:\n",
    "        print(\"Wrong\")\n",
    "        \n",
    "fib_iter(5)\n",
    "\n"
   ]
  },
  {
   "cell_type": "markdown",
   "metadata": {},
   "source": [
    "PROBLEM 3\n"
   ]
  },
  {
   "cell_type": "code",
   "execution_count": 33,
   "metadata": {},
   "outputs": [
    {
     "data": {
      "image/png": "[encoded data removed]",
      "text/plain": [
       "<Figure size 432x288 with 1 Axes>"
      ]
     },
     "metadata": {
      "needs_background": "light"
     },
     "output_type": "display_data"
    },
    {
     "name": "stdout",
     "output_type": "stream",
     "text": [
      "Random coordinates with random velocity\n",
      "1\n",
      "5\n",
      "4\n",
      "4\n"
     ]
    },
    {
     "data": {
      "image/png": "[encoded data removed]",
      "text/plain": [
       "<Figure size 432x288 with 1 Axes>"
      ]
     },
     "metadata": {
      "needs_background": "light"
     },
     "output_type": "display_data"
    }
   ],
   "source": [
    "t=0\n",
    "sy = np.array([])\n",
    "sx = np.array([])\n",
    "\n",
    "\n",
    "while (0 + 2*t - 5*t*t)>=0:\n",
    "    sx = np.append(sx,0 + 2*t)\n",
    "    sy = np.append(sy,0 + 2*t - 5*t*t)\n",
    "\n",
    "    t = t + 0.001\n",
    "    \n",
    "plt.scatter(sx,sy)\n",
    "plt.show()\n",
    "\n",
    "\n",
    "print(\"Random coordinates with random velocity\")\n",
    "\n",
    "\n",
    "x = int(input()) \n",
    "y = int(input()) \n",
    "ux = int(input()) \n",
    "uy = int(input()) \n",
    "\n",
    "t=0\n",
    "sy = np.array([])\n",
    "sx = np.array([])\n",
    "\n",
    "\n",
    "while (y + uy*t - 5*t*t)>=0:\n",
    "    sx = np.append(sx,x + ux*t)\n",
    "    sy = np.append(sy,y + uy*t - 5*t*t)\n",
    "\n",
    "    t = t + 0.001\n",
    "    \n",
    "plt.scatter(sx,sy)\n",
    "plt.show()\n"
   ]
  },
  {
   "cell_type": "markdown",
   "metadata": {},
   "source": [
    "PROBLEM 4\n"
   ]
  },
  {
   "cell_type": "code",
   "execution_count": 42,
   "metadata": {
    "scrolled": true
   },
   "outputs": [
    {
     "name": "stdout",
     "output_type": "stream",
     "text": [
      "[1 2 3]\n",
      "[2 3 4]\n",
      "Dot Product:  20\n",
      "Cross Product:  [-1. -2. -1.]\n",
      "\n",
      "\n",
      "Matrix: \n",
      "[[1 1 0]\n",
      " [1 1 1]\n",
      " [0 1 1]]\n"
     ]
    }
   ],
   "source": [
    "v1 = np.array([1,2,3])\n",
    "v2 = np.array([2,3,4])\n",
    "\n",
    "def dot(v1,v2):\n",
    "    pdt_dot=0\n",
    "    for i in range(3):\n",
    "        pdt_dot=pdt_dot + v1[i]*v2[i]\n",
    "    return(pdt_dot)\n",
    "\n",
    "def cross(v1,v2):\n",
    "    pdt_cross = np.empty(3)\n",
    "    pdt_cross[0] = v1[1]*v2[2] - v2[1]*v1[2]\n",
    "    pdt_cross[1] = v1[0]*v2[2] - v2[0]*v1[2]\n",
    "    pdt_cross[2] = v1[0]*v2[1] - v2[0]*v1[1]\n",
    "    return(pdt_cross)\n",
    "\n",
    "print(v1)\n",
    "print(v2)\n",
    "print(\"Dot Product: \" ,dot(v1,v2))\n",
    "print(\"Cross Product: \" ,cross(v1,v2))        \n"
   ]
  },
  {
   "cell_type": "code",
   "execution_count": 41,
   "metadata": {},
   "outputs": [
    {
     "name": "stdout",
     "output_type": "stream",
     "text": [
      "Matrix: \n",
      "[[1 1 0]\n",
      " [1 1 1]\n",
      " [0 1 1]]\n",
      "Matrix: \n",
      "[[2 3 1]\n",
      " [1 0 0]\n",
      " [9 4 6]]\n",
      "Matrix Multiplication: \n",
      "[[ 3.  3.  1.]\n",
      " [12.  7.  7.]\n",
      " [10.  4.  6.]]\n"
     ]
    }
   ],
   "source": [
    "a = np.array([[1,1,0],[1,1,1],[0,1,1]])\n",
    "print(\"Matrix: \")\n",
    "print(a)\n",
    "\n",
    "b = np.array([[2,3,1],[1,0,0],[9,4,6]])\n",
    "print(\"Matrix: \")\n",
    "print(b)\n",
    "\n",
    "Mult = np.empty((3,3))\n",
    "\n",
    "for i in range(3):\n",
    "    for j in range(3):\n",
    "        for k in range(3):\n",
    "            Mult[i][j] =  Mult[i][j] + a[i][k] * b[k][j]\n",
    "\n",
    "print(\"Matrix Multiplication: \")\n",
    "print(Mult)"
   ]
  },
  {
   "cell_type": "code",
   "execution_count": 46,
   "metadata": {},
   "outputs": [
    {
     "name": "stdout",
     "output_type": "stream",
     "text": [
      "Matrix: \n",
      "[[1 1 0]\n",
      " [1 1 1]\n",
      " [0 1 1]]\n",
      "Determinant\n",
      " -1\n"
     ]
    }
   ],
   "source": [
    "a = np.array([[1,1,0],[1,1,1],[0,1,1]])\n",
    "print(\"Matrix: \")\n",
    "print(a)\n",
    "\n",
    "det = a[0][0] * ((a[1][1]*a[2][2]) - (a[2][1]*a[1][2]))-a[0][1] * (a[1][0]*a[2][2] - a[2][0] * a[1][2]) + a[0][2] * (a[1][0] * a[2][1] - a[2][0] * a[1][1]);\n",
    "print(\"Determinant\\n\",det)"
   ]
  },
  {
   "cell_type": "code",
   "execution_count": 73,
   "metadata": {},
   "outputs": [
    {
     "name": "stdout",
     "output_type": "stream",
     "text": [
      "Matrix: \n",
      "[[1 1 0]\n",
      " [1 1 1]\n",
      " [0 1 1]]\n",
      "\n",
      "Coefficients:\n",
      "a =  -1.0\n",
      "b =  3.0\n",
      "c =  -1.0\n",
      "d =  -1.0\n",
      "\n",
      "Roots: \n",
      "[ 2.41421356  1.         -0.41421356]\n",
      "Matrix for solutions of equations: \n"
     ]
    },
    {
     "ename": "TypeError",
     "evalue": "'builtin_function_or_method' object is not subscriptable",
     "output_type": "error",
     "traceback": [
      "\u001b[0;31m---------------------------------------------------------------------------\u001b[0m",
      "\u001b[0;31mTypeError\u001b[0m                                 Traceback (most recent call last)",
      "\u001b[0;32m<ipython-input-73-1d8d88b3a574>\u001b[0m in \u001b[0;36m<module>\u001b[0;34m\u001b[0m\n\u001b[1;32m     23\u001b[0m \u001b[0mprint\u001b[0m\u001b[0;34m(\u001b[0m\u001b[0;34m\"Matrix for solutions of equations: \"\u001b[0m\u001b[0;34m)\u001b[0m\u001b[0;34m\u001b[0m\u001b[0;34m\u001b[0m\u001b[0m\n\u001b[1;32m     24\u001b[0m \u001b[0;34m\u001b[0m\u001b[0m\n\u001b[0;32m---> 25\u001b[0;31m \u001b[0meigen_vect\u001b[0m\u001b[0;34m(\u001b[0m\u001b[0ma\u001b[0m\u001b[0;34m)\u001b[0m\u001b[0;34m\u001b[0m\u001b[0;34m\u001b[0m\u001b[0m\n\u001b[0m\u001b[1;32m     26\u001b[0m \u001b[0;34m\u001b[0m\u001b[0m\n\u001b[1;32m     27\u001b[0m \u001b[0;32mdef\u001b[0m \u001b[0meigen_vect\u001b[0m\u001b[0;34m(\u001b[0m\u001b[0ma\u001b[0m\u001b[0;34m)\u001b[0m\u001b[0;34m:\u001b[0m\u001b[0;34m\u001b[0m\u001b[0;34m\u001b[0m\u001b[0m\n",
      "\u001b[0;32m<ipython-input-69-a1f0c4624f77>\u001b[0m in \u001b[0;36meigen_vect\u001b[0;34m(a)\u001b[0m\n\u001b[1;32m     27\u001b[0m     \u001b[0mroots\u001b[0m\u001b[0;34m=\u001b[0m\u001b[0mnp\u001b[0m\u001b[0;34m.\u001b[0m\u001b[0mempty\u001b[0m\u001b[0;34m(\u001b[0m\u001b[0;36m3\u001b[0m\u001b[0;34m)\u001b[0m\u001b[0;34m\u001b[0m\u001b[0;34m\u001b[0m\u001b[0m\n\u001b[1;32m     28\u001b[0m     \u001b[0;32mfor\u001b[0m \u001b[0mi\u001b[0m \u001b[0;32min\u001b[0m \u001b[0mrange\u001b[0m\u001b[0;34m(\u001b[0m\u001b[0;36m3\u001b[0m\u001b[0;34m)\u001b[0m\u001b[0;34m:\u001b[0m\u001b[0;34m\u001b[0m\u001b[0;34m\u001b[0m\u001b[0m\n\u001b[0;32m---> 29\u001b[0;31m         \u001b[0mmat_sol\u001b[0m\u001b[0;34m=\u001b[0m\u001b[0mnp\u001b[0m\u001b[0;34m.\u001b[0m\u001b[0marray\u001b[0m\u001b[0;34m[\u001b[0m\u001b[0;34m[\u001b[0m\u001b[0;36m1\u001b[0m\u001b[0;34m-\u001b[0m\u001b[0mroots\u001b[0m\u001b[0;34m[\u001b[0m\u001b[0mi\u001b[0m\u001b[0;34m]\u001b[0m\u001b[0;34m,\u001b[0m \u001b[0;36m1\u001b[0m\u001b[0;34m,\u001b[0m \u001b[0;36m0\u001b[0m\u001b[0;34m]\u001b[0m\u001b[0;34m,\u001b[0m \u001b[0;34m[\u001b[0m\u001b[0;36m1\u001b[0m\u001b[0;34m,\u001b[0m \u001b[0;36m1\u001b[0m\u001b[0;34m-\u001b[0m\u001b[0mroots\u001b[0m\u001b[0;34m[\u001b[0m\u001b[0mi\u001b[0m\u001b[0;34m]\u001b[0m\u001b[0;34m,\u001b[0m \u001b[0;36m1\u001b[0m\u001b[0;34m]\u001b[0m\u001b[0;34m,\u001b[0m \u001b[0;34m[\u001b[0m\u001b[0;36m0\u001b[0m\u001b[0;34m,\u001b[0m\u001b[0;36m1\u001b[0m \u001b[0;34m,\u001b[0m \u001b[0;36m1\u001b[0m\u001b[0;34m-\u001b[0m\u001b[0mroots\u001b[0m\u001b[0;34m[\u001b[0m\u001b[0mi\u001b[0m\u001b[0;34m]\u001b[0m\u001b[0;34m]\u001b[0m\u001b[0;34m]\u001b[0m\u001b[0;34m\u001b[0m\u001b[0;34m\u001b[0m\u001b[0m\n\u001b[0m\u001b[1;32m     30\u001b[0m         \u001b[0mprint\u001b[0m\u001b[0;34m(\u001b[0m\u001b[0mmat_sol\u001b[0m\u001b[0;34m)\u001b[0m\u001b[0;34m\u001b[0m\u001b[0;34m\u001b[0m\u001b[0m\n\u001b[1;32m     31\u001b[0m         \u001b[0mMult\u001b[0m \u001b[0;34m=\u001b[0m \u001b[0mnp\u001b[0m\u001b[0;34m.\u001b[0m\u001b[0mempty\u001b[0m\u001b[0;34m(\u001b[0m\u001b[0;34m(\u001b[0m\u001b[0;36m3\u001b[0m\u001b[0;34m,\u001b[0m\u001b[0;36m3\u001b[0m\u001b[0;34m)\u001b[0m\u001b[0;34m)\u001b[0m\u001b[0;34m\u001b[0m\u001b[0;34m\u001b[0m\u001b[0m\n",
      "\u001b[0;31mTypeError\u001b[0m: 'builtin_function_or_method' object is not subscriptable"
     ]
    }
   ],
   "source": [
    "mat = np.array([[1,1,0],[1,1,1],[0,1,1]])\n",
    "print(\"Matrix: \")\n",
    "print(mat)\n",
    "\n",
    "a=np.empty(4)\n",
    "a[0]=-1\n",
    "a[1]=mat[0][0]+mat[1][1]+mat[2][2]\n",
    "a[2]=(mat[1][2]*mat[2][1] + mat[1][0]*mat[0][1] + mat[2][0]*mat[0][2]) - (mat[0][0]*mat[1][1] + mat[1][1]*mat[2][2] + mat[2][2]*mat[0][0])\n",
    "a[3]=mat[0][0]*(mat[1][1]*mat[2][2] - mat[1][2]*mat[2][1]) + mat[0][1]*(mat[1][2]*mat[2][0] - mat[1][0]*mat[2][2]) + mat[0][2]*(mat[1][0]*mat[2][1] - mat[1][1]*mat[2][0])\n",
    "\n",
    "print()\n",
    "print(\"Coefficients:\")\n",
    "print(\"a = \", a[0])\n",
    "print(\"b = \", a[1])\n",
    "print(\"c = \", a[2])\n",
    "print(\"d = \", a[3])\n",
    "\n",
    "np.roots(a)\n",
    "print()\n",
    "print(\"Roots: \")\n",
    "print(np.roots(a))\n",
    "\n",
    "print(\"Matrix for solutions of equations: \")\n",
    "\n",
    "eigen_vect(a)\n",
    "\n",
    "def eigen_vect(a):\n",
    "    roots=np.roots(a)\n",
    "    \n"
   ]
  }
 ],
 "metadata": {
  "kernelspec": {
   "display_name": "Python 3",
   "language": "python",
   "name": "python3"
  },
  "language_info": {
   "codemirror_mode": {
    "name": "ipython",
    "version": 3
   },
   "file_extension": ".py",
   "mimetype": "text/x-python",
   "name": "python",
   "nbconvert_exporter": "python",
   "pygments_lexer": "ipython3",
   "version": "3.6.7"
  }
 },
 "nbformat": 4,
 "nbformat_minor": 2
}
