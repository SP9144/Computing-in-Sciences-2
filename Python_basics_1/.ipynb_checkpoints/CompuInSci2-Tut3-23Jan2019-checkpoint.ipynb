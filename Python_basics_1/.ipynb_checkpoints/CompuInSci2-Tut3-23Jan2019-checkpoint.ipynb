{
 "cells": [
  {
   "cell_type": "markdown",
   "metadata": {},
   "source": [
    "# Shreeya Pahune\n",
    "\n",
    "<b>2018113011</b>\n"
   ]
  },
  {
   "cell_type": "markdown",
   "metadata": {},
   "source": [
    "\n",
    "Now that we have worked on some examples, it is now time to circle black and revise quickly some of important (or more frequently used) python constructs. \n",
    "\n",
    "- Numbers, Variables, Boolean logic, Strings\n",
    "\n",
    "- List, Tuples,  Loops\n",
    "\n",
    "- File I/0\n",
    "\n",
    "You will write examples for various operations for each one of the above operations/constructs in the tutorial.  Below is the example for the \"Lists\"."
   ]
  },
  {
   "cell_type": "markdown",
   "metadata": {},
   "source": [
    "# Lists\n",
    "Perfom the following task:\n",
    "- make a list using a rule (list comprehension)\n",
    "- add member to a list (somewhere in the middle)\n",
    "- delete a memeber from a list \n",
    "- modify a list member"
   ]
  },
  {
   "cell_type": "markdown",
   "metadata": {},
   "source": [
    "# 1. Numbers\n"
   ]
  },
  {
   "cell_type": "code",
   "execution_count": 9,
   "metadata": {},
   "outputs": [
    {
     "name": "stdout",
     "output_type": "stream",
     "text": [
      "113.8\n",
      "\n",
      "2\n",
      "\n",
      "16\n",
      "\n",
      "35\n",
      "\n"
     ]
    },
    {
     "data": {
      "text/plain": [
       "110"
      ]
     },
     "execution_count": 9,
     "metadata": {},
     "output_type": "execute_result"
    }
   ],
   "source": [
    "#Division o/p float\n",
    "print((95*6-1)/5)\n",
    "print()\n",
    "\n",
    "#Floor function\n",
    "print(7//3)\n",
    "print()\n",
    "\n",
    "#Square\n",
    "print(4**2)\n",
    "print()\n",
    "\n",
    "#Use of Round\n",
    "print(round(113.6025 - 78.54))\n",
    "print()\n",
    "\n",
    "#Use of _\n",
    "5+5\n",
    "_+100\n",
    "\n"
   ]
  },
  {
   "cell_type": "markdown",
   "metadata": {},
   "source": [
    "# 2. Variables"
   ]
  },
  {
   "cell_type": "code",
   "execution_count": 17,
   "metadata": {},
   "outputs": [
    {
     "name": "stdout",
     "output_type": "stream",
     "text": [
      "9\n",
      "Hello\n",
      "\n",
      "Hello\n",
      "\n",
      "61\n",
      "\n",
      "16\n",
      "\n",
      "130\n"
     ]
    }
   ],
   "source": [
    "#Data type need not be specified\n",
    "x=9\n",
    "print(x)\n",
    "y=\"Hello\"\n",
    "print(y)\n",
    "print()\n",
    "\n",
    "#Data type can be changed\n",
    "x=9\n",
    "x=\"Hello\"\n",
    "print(x)\n",
    "print()\n",
    "\n",
    "#Does run-time calculation\n",
    "x = 50\n",
    "y = 11\n",
    "print(x + y)\n",
    "print()\n",
    "\n",
    "#Regular variable calculation\n",
    "a=7\n",
    "b=a+9\n",
    "print(b)\n",
    "print()\n",
    "\n",
    "#_ use as variable\n",
    "_=130\n",
    "print(_)\n"
   ]
  },
  {
   "cell_type": "markdown",
   "metadata": {},
   "source": [
    "# 3. Boolean Logic"
   ]
  },
  {
   "cell_type": "code",
   "execution_count": 38,
   "metadata": {},
   "outputs": [
    {
     "name": "stdout",
     "output_type": "stream",
     "text": [
      "-> and\n",
      "1. True\n",
      "2. False\n",
      "3. False\n",
      "\n",
      "-> or\n",
      "1. True\n",
      "2. True\n",
      "3. False\n",
      "\n",
      "-> not\n",
      "1. False\n",
      "2. True\n",
      "\n",
      "True\n",
      "\n",
      "True\n",
      "True\n"
     ]
    }
   ],
   "source": [
    "#and operator\n",
    "print(\"-> and\")\n",
    "print(\"1.\", True and True)\n",
    "print(\"2.\", True and False)\n",
    "print(\"3.\", False and False)\n",
    "print()\n",
    "\n",
    "#or operator\n",
    "print(\"-> or\")\n",
    "print(\"1.\", True or True)\n",
    "print(\"2.\", True or False)\n",
    "print(\"3.\", False or False)\n",
    "print()\n",
    "\n",
    "#not operator\n",
    "print(\"-> not\")\n",
    "print(\"1.\", not True)\n",
    "print(\"2.\", not False)\n",
    "print()\n",
    "\n",
    "#Test cases in numbers\n",
    "x=2\n",
    "print(1<x<3)\n",
    "print()\n",
    "\n",
    "#Test cases in strings\n",
    "print('He' in 'Hello')\n",
    "\n",
    "a = 'Hello'\n",
    "b = a\n",
    "print(b is a)\n"
   ]
  },
  {
   "cell_type": "markdown",
   "metadata": {},
   "source": [
    "# 4. Strings"
   ]
  },
  {
   "cell_type": "code",
   "execution_count": 7,
   "metadata": {},
   "outputs": [
    {
     "name": "stdout",
     "output_type": "stream",
     "text": [
      "blah\n",
      "o\n",
      "blah\\no\n",
      "\n",
      "Example: Strings\n",
      "\n",
      "T\n",
      "s\n",
      "\n",
      "4\n",
      "\n",
      "Thi\n",
      "i\n",
      "Thi\n",
      "\n"
     ]
    }
   ],
   "source": [
    "#escape characters\n",
    "print('blah\\no') \n",
    "\n",
    "print(r'blah\\no')\n",
    "print()\n",
    "\n",
    "#run time catenation\n",
    "x = \"Example: \"\n",
    "y = \"Strings\"\n",
    "print(x+y)\n",
    "print()\n",
    "\n",
    "#Strings as arrays\n",
    "a = 'This'\n",
    "print(a[0])\n",
    "print(a[-1])\n",
    "print()\n",
    "\n",
    "#Strings as arrays indexing\n",
    "a = 'This'\n",
    "print(len(a))\n",
    "print()\n",
    "\n",
    "#Use of :\n",
    "a = 'This'\n",
    "print(a[0:2])\n",
    "print(a[2:])\n",
    "print(a[:3])\n",
    "print()\n"
   ]
  },
  {
   "cell_type": "markdown",
   "metadata": {},
   "source": [
    "# 5. Lists"
   ]
  },
  {
   "cell_type": "code",
   "execution_count": 80,
   "metadata": {},
   "outputs": [
    {
     "name": "stdout",
     "output_type": "stream",
     "text": [
      "def\n",
      "3\n",
      "\n",
      "['ghi', 'def', 'abc']\n",
      "\n",
      "['xyz', 'def', 'ghi']\n",
      "\n",
      "['abc', 'def', 'ghi', 'jkl']\n",
      "\n",
      "Yes\n"
     ]
    }
   ],
   "source": [
    "#Indexing and length of list\n",
    "list = [\"abc\", \"def\", \"ghi\"] #or use list((....))\n",
    "print(list[1])\n",
    "print(len(list)) #count index\n",
    "print()\n",
    "\n",
    "#reverse list\n",
    "list = [\"abc\", \"def\", \"ghi\"]\n",
    "list.reverse()\n",
    "print(list)\n",
    "print()\n",
    "\n",
    "#Insert and remove\n",
    "list = [\"abc\", \"def\", \"ghi\"]\n",
    "list.insert(1, \"xyz\")\n",
    "list.remove(\"abc\")  #del() and clear()\n",
    "print(list)     \n",
    "print()\n",
    "\n",
    "#append and sort\n",
    "list = [\"abc\", \"def\", \"ghi\"]\n",
    "list.append(\"jkl\")\n",
    "list.sort()\n",
    "print(list)\n",
    "print()\n",
    "\n",
    "#Existence of list item\n",
    "list = [\"abc\", \"def\", \"ghi\"]\n",
    "if \"def\" in list:\n",
    "  print(\"Yes\") \n",
    "\n",
    "#list as stacks and queues"
   ]
  },
  {
   "cell_type": "markdown",
   "metadata": {},
   "source": [
    "# 6. Tuples and Loops"
   ]
  },
  {
   "cell_type": "code",
   "execution_count": 87,
   "metadata": {},
   "outputs": [
    {
     "name": "stdout",
     "output_type": "stream",
     "text": [
      "('abc', 123, 'xy', 45)\n",
      "\n",
      "(('abc', 123, 'xy', 45), 'def')\n",
      "\n",
      "abc 3\n",
      "def 3\n",
      "ghi 3\n",
      "\n",
      "1\n",
      "2\n",
      "3\n",
      "4\n",
      "5\n",
      "6\n",
      "7\n",
      "8\n",
      "9\n"
     ]
    }
   ],
   "source": [
    "#tuple\n",
    "tuple = 'abc', 123, 'xy', 45\n",
    "print(tuple)\n",
    "print()\n",
    "\n",
    "#nested tuple\n",
    "x=tuple, 'def'\n",
    "print(x)\n",
    "print()\n",
    "\n",
    "#for loop\n",
    "list = [\"abc\", \"def\", \"ghi\"]\n",
    "for x in list:\n",
    "    print(x, len(x))\n",
    "print()\n",
    "\n",
    "#while loop\n",
    "i = 1\n",
    "while i < 10:\n",
    "  print(i)\n",
    "  i=i+1\n"
   ]
  },
  {
   "cell_type": "markdown",
   "metadata": {},
   "source": [
    "# 7. File I/O"
   ]
  },
  {
   "cell_type": "code",
   "execution_count": 109,
   "metadata": {},
   "outputs": [
    {
     "name": "stdout",
     "output_type": "stream",
     "text": [
      "Name:  file.txt\n",
      "Closed or not :  False\n",
      "Opening mode :  wb\n",
      "\n",
      "Closed or not :  True\n",
      "\n",
      "This is an example\n",
      "Closed or not :  True\n"
     ]
    }
   ],
   "source": [
    "#open file in read and write mod\n",
    "f = open(\"file.txt\", \"wb\")\n",
    "print (\"Name: \", f.name)\n",
    "print (\"Closed or not : \", f.closed)\n",
    "print (\"Opening mode : \", f.mode)\n",
    "print()\n",
    "\n",
    "#close file\n",
    "f.close()\n",
    "print (\"Closed or not : \", f.closed)\n",
    "\n",
    "#write in file\n",
    "f = open(\"file.txt\", \"w\")\n",
    "f.write( \"This is an example\");\n",
    "f.close()\n",
    "print()\n",
    "\n",
    "#read file\n",
    "with open('file.txt') as f: #auto-close\n",
    "    print(f.read())\n",
    "print (\"Closed or not : \", f.closed)"
   ]
  },
  {
   "cell_type": "code",
   "execution_count": null,
   "metadata": {},
   "outputs": [],
   "source": []
  },
  {
   "cell_type": "code",
   "execution_count": null,
   "metadata": {},
   "outputs": [],
   "source": []
  }
 ],
 "metadata": {
  "kernelspec": {
   "display_name": "Python 3",
   "language": "python",
   "name": "python3"
  },
  "language_info": {
   "codemirror_mode": {
    "name": "ipython",
    "version": 3
   },
   "file_extension": ".py",
   "mimetype": "text/x-python",
   "name": "python",
   "nbconvert_exporter": "python",
   "pygments_lexer": "ipython3",
   "version": "3.6.7"
  }
 },
 "nbformat": 4,
 "nbformat_minor": 2
}
