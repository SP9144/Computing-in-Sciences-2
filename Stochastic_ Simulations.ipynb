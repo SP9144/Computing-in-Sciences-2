{
 "cells": [
  {
   "cell_type": "markdown",
   "metadata": {},
   "source": [
    "# Shreeya Pahune\n",
    "## 2018113011\n"
   ]
  },
  {
   "cell_type": "markdown",
   "metadata": {},
   "source": [
    "1. Running Well"
   ]
  },
  {
   "cell_type": "code",
   "execution_count": 2,
   "metadata": {},
   "outputs": [],
   "source": [
    "import numpy as np\n",
    "import matplotlib.pyplot as plt\n",
    "import math\n",
    "import scipy.special"
   ]
  },
  {
   "cell_type": "code",
   "execution_count": 35,
   "metadata": {
    "scrolled": true
   },
   "outputs": [
    {
     "data": {
      "text/plain": [
       "(array([ 1.,  0.,  0.,  0.,  0.,  0.,  0.,  0.,  0.,  0.,  0.,  0.,  0.,\n",
       "         0.,  0.,  0.,  0.,  0.,  0.,  0.,  0.,  0.,  0.,  0.,  0.,  0.,\n",
       "         0.,  0.,  0.,  0.,  0.,  0.,  0.,  0.,  0.,  0.,  0.,  0.,  0.,\n",
       "         0.,  0.,  0.,  0.,  0.,  0.,  0.,  0.,  0.,  0.,  0.,  0.,  0.,\n",
       "         0.,  0.,  0.,  0.,  0.,  0.,  0.,  0.,  0.,  0.,  0.,  0.,  0.,\n",
       "         0.,  0.,  0.,  0.,  0.,  0.,  0.,  0.,  0.,  0.,  0.,  0.,  0.,\n",
       "         0.,  0.,  1.,  0.,  0.,  0.,  0.,  0.,  0.,  0.,  0.,  0.,  0.,\n",
       "         0.,  0.,  0.,  0.,  0.,  0.,  0.,  0.,  0.,  0.,  0.,  0.,  0.,\n",
       "         0.,  0.,  0.,  0.,  0.,  0.,  0.,  0.,  0.,  0.,  0.,  0.,  0.,\n",
       "         0.,  0.,  0.,  0.,  0.,  0.,  0.,  0.,  0.,  0.,  0.,  0.,  0.,\n",
       "         0.,  1.,  0.,  0.,  0.,  0.,  0.,  0.,  0.,  0.,  0.,  0.,  0.,\n",
       "         0.,  0.,  0.,  0.,  0.,  0.,  0.,  0.,  0.,  0.,  0.,  0.,  0.,\n",
       "         0.,  0.,  0.,  0.,  0.,  0.,  0.,  0.,  0.,  0.,  0.,  0.,  0.,\n",
       "         0.,  0.,  0.,  0.,  0.,  0.,  0.,  0.,  0.,  0.,  0.,  0.,  0.,\n",
       "         1.,  0.,  0.,  0.,  0.,  0.,  0.,  0.,  0.,  0.,  1.,  0.,  0.,\n",
       "         1.,  0.,  1.,  0.,  0.,  0.,  0.,  0.,  0.,  0.,  0.,  0.,  0.,\n",
       "         1.,  1.,  0.,  0.,  0.,  0.,  0.,  0.,  0.,  0.,  0.,  0.,  0.,\n",
       "         0.,  0.,  0.,  1.,  0.,  0.,  0.,  0.,  0.,  1.,  0.,  0.,  0.,\n",
       "         0.,  0.,  1.,  1.,  0.,  1.,  0.,  0.,  0.,  0.,  0.,  2.,  0.,\n",
       "         0.,  0.,  0.,  0.,  0.,  0.,  0.,  0.,  0.,  3.,  1.,  1.,  1.,\n",
       "         0.,  0.,  0.,  0.,  0.,  0.,  1.,  2.,  0.,  1.,  0.,  0.,  1.,\n",
       "         0.,  1.,  0.,  0.,  3.,  0.,  1.,  2.,  0.,  0.,  0.,  0.,  0.,\n",
       "         0.,  0.,  1.,  0.,  0.,  0.,  0.,  0.,  0.,  0.,  0.,  2.,  1.,\n",
       "         1.,  1.,  0.,  0.,  0.,  0.,  0.,  0.,  2.,  1.,  2.,  1.,  0.,\n",
       "         0.,  0.,  0.,  0.,  1.,  0.,  1.,  2.,  0.,  0.,  0.,  0.,  0.,\n",
       "         0.,  1.,  1.,  0.,  1.,  2.,  0.,  0.,  0.,  0.,  0.,  0.,  1.,\n",
       "         2.,  3.,  1.,  1.,  1.,  0.,  0.,  0.,  0.,  0.,  3.,  3.,  2.,\n",
       "         0.,  0.,  0.,  0.,  0.,  0.,  0.,  0.,  2.,  1.,  2.,  0.,  0.,\n",
       "         0.,  0.,  0.,  2.,  0.,  2.,  6.,  2.,  2.,  1.,  0.,  0.,  0.,\n",
       "         1.,  3.,  5.,  4.,  2.,  3.,  1.,  0.,  0.,  0.,  0.,  2.,  4.,\n",
       "         3.,  3.,  1.,  0.,  0.,  0.,  0.,  0.,  2.,  1.,  4.,  1.,  0.,\n",
       "         2.,  0.,  0.,  0.,  0.,  1.,  4.,  2.,  7.,  1.,  1.,  0.,  0.,\n",
       "         0.,  1.,  0.,  3.,  4.,  3.,  3.,  1.,  0.,  1.,  0.,  0.,  1.,\n",
       "         3.,  3.,  7.,  5.,  3.,  0.,  1.,  0.,  1.,  1.,  2.,  3.,  7.,\n",
       "         5.,  5.,  1.,  0.,  0.,  0.,  1.,  1.,  1.,  5.,  8.,  3.,  6.,\n",
       "         0.,  0.,  0.,  0.,  0.,  3.,  3.,  3.,  3.,  5.,  0.,  0.,  0.,\n",
       "         0.,  0.,  0.,  5.,  6.,  3.,  3.,  1.,  0.,  0.,  0.,  0.,  1.,\n",
       "         3.,  3.,  6.,  5.,  1.,  2.,  0.,  0.,  0.,  0.,  2.,  2.,  4.,\n",
       "         5.,  4.,  0.,  2.,  0.,  0.,  0.,  1.,  2.,  7.,  6.,  3.,  1.,\n",
       "         0.,  0.,  0.,  0.,  3.,  8.,  7.,  6.,  4.,  2.,  0.,  1.,  0.,\n",
       "         0.,  1.,  5.,  9.,  3.,  9.,  2.,  0.,  0.,  0.,  0.,  1.,  2.,\n",
       "         9.,  8.,  7.,  4.,  0.,  0.,  0.,  0.,  0.,  3., 12.,  3.,  5.,\n",
       "         4.,  3.,  1.,  0.,  0.,  0.,  3.,  4.,  7.,  6.,  5.,  3.,  0.,\n",
       "         0.,  0.,  0.,  0.,  3.,  9., 14.,  2.,  5.,  0.,  0.,  0.,  1.,\n",
       "         1.,  1.,  2.,  3.,  6.,  0.,  0.,  1.,  0.,  0.,  1.,  2.,  4.,\n",
       "         8.,  5.,  3.,  1.,  0.,  0.,  0.,  0.,  1.,  5.,  7.,  6.,  3.,\n",
       "         2.,  0.,  1.,  0.,  1.,  1.,  4.,  4.,  9.,  1.,  1.,  0.,  0.,\n",
       "         0.,  0.,  2.,  4.,  6.,  6.,  5.,  3.,  0.,  1.,  0.,  0.,  0.,\n",
       "         1.,  7.,  7.,  3.,  4.,  2.,  0.,  0.,  0.,  1.,  1.,  5.,  7.,\n",
       "         3.,  6.,  3.,  2.,  0.,  0.,  0.,  1.,  0.,  6.,  4.,  2.,  3.,\n",
       "         0.,  0.,  0.,  0.,  0.,  4.,  7.,  7.,  9.,  3.,  0.,  0.,  0.,\n",
       "         0.,  0.,  0.,  4.,  3., 10.,  2.,  1.,  0.,  0.,  0.,  0.,  3.,\n",
       "         2.,  6.,  4.,  7.,  1.,  0.,  0.,  0.,  0.,  1.,  1.,  1.,  5.,\n",
       "         7.,  1.,  1.,  1.,  0.,  0.,  0.,  2.,  7.,  4.,  3.,  4.,  3.,\n",
       "         0.,  0.,  0.,  1.,  0.,  3.,  4.,  7.,  3.,  1.,  0.,  0.,  0.,\n",
       "         0.,  0.,  4.,  2.,  2.,  4.,  2.,  0.,  0.,  0.,  0.,  1.,  1.,\n",
       "         1.,  6.,  3.,  2.,  1.,  0.,  0.,  0.,  1.,  0.,  2.,  2.,  3.,\n",
       "         3.,  0.,  2.,  0.,  1.,  0.,  4.,  2.,  5.,  4.,  2.,  1.,  0.,\n",
       "         0.,  0.,  0.,  0.,  1.,  2.,  3.,  4.,  1.,  0.,  0.,  0.,  0.,\n",
       "         0.,  4.,  0.,  2.,  3.,  1.,  0.,  0.,  0.,  0.,  1.,  2.,  2.,\n",
       "         1.,  2.,  0.,  0.,  0.,  0.,  0.,  0.,  2.,  3.,  2.,  4.,  2.,\n",
       "         3.,  0.,  0.,  0.,  0.,  1.,  0.,  1.,  4.,  2.,  2.,  1.,  0.,\n",
       "         0.,  0.,  0.,  0.,  2.,  4.,  4.,  3.,  0.,  0.,  0.,  0.,  0.,\n",
       "         0.,  1.,  3.,  1.,  1.,  0.,  0.,  0.,  0.,  0.,  0.,  0.,  2.,\n",
       "         1.,  0.,  0.,  0.,  0.,  0.,  0.,  0.,  0.,  0.,  0.,  1.,  0.,\n",
       "         0.,  0.,  0.,  0.,  0.,  0.,  0.,  0.,  0.,  0.,  0.,  0.,  0.,\n",
       "         0.,  0.,  0.,  0.,  3.,  2.,  0.,  1.,  0.,  0.,  0.,  0.,  0.,\n",
       "         0.,  1.,  1.,  1.,  1.,  0.,  0.,  0.,  0.,  0.,  0.,  0.,  0.,\n",
       "         3.,  1.,  0.,  0.,  0.,  0.,  0.,  0.,  0.,  0.,  0.,  0.,  0.,\n",
       "         0.,  0.,  0.,  0.,  0.,  1.,  0.,  0.,  0.,  0.,  0.,  0.,  0.,\n",
       "         0.,  0.,  1.,  0.,  0.,  0.,  0.,  0.,  0.,  0.,  0.,  0.,  0.,\n",
       "         0.,  0.,  2.,  0.,  0.,  0.,  0.,  0.,  0.,  0.,  1.,  0.,  1.,\n",
       "         1.,  0.,  0.,  0.,  0.,  0.,  0.,  0.,  1.,  0.,  0.,  0.,  0.,\n",
       "         0.,  0.,  1.,  0.,  0.,  1.,  1.,  0.,  0.,  0.,  0.,  0.,  0.,\n",
       "         0.,  0.,  1.,  0.,  0.,  0.,  0.,  0.,  0.,  0.,  0.,  0.,  1.,\n",
       "         0.,  0.,  0.,  0.,  0.,  0.,  0.,  0.,  0.,  0.,  0.,  1.,  1.,\n",
       "         0.,  0.,  0.,  0.,  0.,  0.,  0.,  0.,  0.,  0.,  0.,  1.]),\n",
       " array([-1.12136044, -1.11941227, -1.1174641 , ...,  0.82291512,\n",
       "         0.82486329,  0.82681146]),\n",
       " <a list of 1000 Patch objects>)"
      ]
     },
     "execution_count": 35,
     "metadata": {},
     "output_type": "execute_result"
    },
    {
     "data": {
      "image/png": "[encoded data removed]",
      "text/plain": [
       "<Figure size 432x288 with 1 Axes>"
      ]
     },
     "metadata": {
      "needs_background": "light"
     },
     "output_type": "display_data"
    }
   ],
   "source": [
    "Hist_En = np.array([])\n",
    "En = 0\n",
    "\n",
    "for j in range(1000):\n",
    "    for i in range (1000):\n",
    "        E = np.random.choice([-1, 1])\n",
    "        En = En + E\n",
    "    En = En/100\n",
    "    Hist_En = np.append(Hist_En, En)\n",
    "\n",
    "plt.hist(Hist_En, bins=1000)"
   ]
  },
  {
   "cell_type": "code",
   "execution_count": 111,
   "metadata": {},
   "outputs": [
    {
     "name": "stdout",
     "output_type": "stream",
     "text": [
      "0.9990234375\n",
      "0.9999999999999992\n",
      "0.9999999999999998\n",
      "0.9999999999998118\n",
      "1.0000000000004399\n"
     ]
    },
    {
     "data": {
      "image/png": "[encoded data removed]",
      "text/plain": [
       "<Figure size 432x288 with 1 Axes>"
      ]
     },
     "metadata": {
      "needs_background": "light"
     },
     "output_type": "display_data"
    }
   ],
   "source": [
    "def nx_vs_p_head(n):\n",
    "    \n",
    "    p_head = np.array([])\n",
    "    nx = np.array([])\n",
    "    x = np.arange(0 ,1, 1/n)\n",
    "\n",
    "    for i in x:\n",
    "        nx = np.append(nx, n*i)\n",
    "        p_head = np.append(p_head,(scipy.special.comb(n, n*i)/2**n))\n",
    "    \n",
    "    print(sum(p_head))\n",
    "    #print(x, p_head)\n",
    "    plt.plot(nx-n/2, p_head, label = 'n = ' + str(n))\n",
    "\n",
    "n = [10, 50, 100, 500, 1000]\n",
    "\n",
    "for i in n:\n",
    "    nx_vs_p_head(i)\n",
    "\n",
    "plt.xlim(-100, 100)\n",
    "plt.legend()\n",
    "plt.show()\n"
   ]
  }
 ],
 "metadata": {
  "kernelspec": {
   "display_name": "Python 3",
   "language": "python",
   "name": "python3"
  },
  "language_info": {
   "codemirror_mode": {
    "name": "ipython",
    "version": 3
   },
   "file_extension": ".py",
   "mimetype": "text/x-python",
   "name": "python",
   "nbconvert_exporter": "python",
   "pygments_lexer": "ipython3",
   "version": "3.6.7"
  }
 },
 "nbformat": 4,
 "nbformat_minor": 2
}
