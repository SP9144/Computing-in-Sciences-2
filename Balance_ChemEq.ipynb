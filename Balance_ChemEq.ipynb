{
 "cells": [
  {
   "cell_type": "markdown",
   "metadata": {},
   "source": [
    "# Shreeya Pahune\n",
    "## 2018113011\n",
    "\n",
    "# Quiz 2 - Balancing Chemical Equations\n",
    "\n",
    "#### No internet connection used\n",
    "#### Only data on computer has been used\n",
    "\n",
    "#### Components:\n",
    "Markdown to explain data structures\n",
    "Examples\n",
    "Pseudocode\n",
    "Function doc string\n",
    "\n",
    "****Kindly look at the end for answer of each test case (code was in debug mode)"
   ]
  },
  {
   "cell_type": "markdown",
   "metadata": {},
   "source": [
    "## Code components: \n",
    "1. Input the equation\n",
    "2. Understand the number of Variables using split to remove symbols\n",
    "3. Balancing the equation \n",
    "4. Display the balanced equation."
   ]
  },
  {
   "cell_type": "code",
   "execution_count": 48,
   "metadata": {},
   "outputs": [],
   "source": [
    "import sys,re\n",
    "from sympy.solvers import solve\n",
    "from sympy import Symbol\n",
    "import math"
   ]
  },
  {
   "cell_type": "code",
   "execution_count": 49,
   "metadata": {},
   "outputs": [],
   "source": [
    "?eval"
   ]
  },
  {
   "cell_type": "code",
   "execution_count": null,
   "metadata": {},
   "outputs": [],
   "source": [
    "?dict"
   ]
  },
  {
   "cell_type": "code",
   "execution_count": 5,
   "metadata": {},
   "outputs": [],
   "source": [
    "def eq_balance(eq):\n",
    "    \n",
    "    list_for_dict = list('abcdefghijklmnopqrstuvwxyz')\n",
    "    Ss, Os, Es, a, i = defaultdict(list), list_for_dict[:], [], 1, 1\n",
    "        \n",
    "    for hs in eq.split('->'):    # split the equation from '->' that is get LHS and RHS\n",
    "        print('hs: ', hs)\n",
    "        for mol in hs.split('+'):  # get terms of the equation on each side of equation\n",
    "            print('mol: ',mol)\n",
    "            c = [list_for_dict.pop(0), 1]  # Assign Alphabet to each equation variable eg: C, H, O\n",
    "            print('c: ', c)\n",
    "            for e,m in re.findall('([A-Z][a-z]?)([0-9]*)',mol): # Using regex to find value associated with each atom\n",
    "                m=1 if m=='' else int(m)\n",
    "                print('m: ',m)\n",
    "                a = a * m\n",
    "                print('a: ',a)\n",
    "                d=[c[0],c[1]*m*i] # assigning the variable and its respective value as key in dictionary\n",
    "                print('d: ',d)\n",
    "                Ss[e][:0],Es[:0]=[d],[[e,d]]\n",
    "                print('Ss: ',Ss)\n",
    "                print('Es: ',Es)\n",
    "                print('i: ',i)\n",
    "                print(\"====================\")\n",
    "        print(\"===========LHS and RHS===========\")\n",
    "        i=-1\n",
    "    \n",
    "    Ys = dict((s, eval('Symbol(\"'+s+'\")')) for s in Os if s not in list_for_dict)\n",
    "    print('Ys: ', Ys)\n",
    "    Qs = [eval('+'.join('%d*%s'%(c[1],c[0]) for c in Ss[s]),{},Ys) for s in Ss]+[Ys['a']-a]\n",
    "    print('Qs: ', Qs)\n",
    "    mol = solve(Qs,*Ys)\n",
    "    print('mol: ', mol)\n",
    "\n",
    "    if mol:\n",
    "        N=[mol[Ys[s]] for s in sorted(Ys)]\n",
    "        print('N: ', N)\n",
    "        print('N[0::2]: ', N[0::2])\n",
    "        print('N[1::2]: ', N[1::2])\n",
    "        g=N[0]\n",
    "        print('g: ', g)\n",
    "        for a1, a2 in zip(N[0::2],N[1::2]):\n",
    "            g=math.gcd(g,a2)\n",
    "        print('g: ', g)            \n",
    "        N=[i/g for i in N]\n",
    "        print('N: ', N)\n",
    "        pM=lambda c: str(c) if c!=1 else ''\n",
    "        print(\"====================\")\n",
    "        print\n",
    "        print(\"ANSWER: \")\n",
    "        print ('->'.join('+'.join(pM(N.pop(0))+str(t) for t in hs.split('+')) for hs in eq.split('->')))\n",
    "        print\n",
    "        print(\"====================\")\n",
    "    else:\n",
    "        print(\"Unable to balance equation\")        \n",
    "        print"
   ]
  },
  {
   "cell_type": "code",
   "execution_count": 6,
   "metadata": {},
   "outputs": [
    {
     "ename": "NameError",
     "evalue": "name 'defaultdict' is not defined",
     "output_type": "error",
     "traceback": [
      "\u001b[0;31m---------------------------------------------------------------------------\u001b[0m",
      "\u001b[0;31mNameError\u001b[0m                                 Traceback (most recent call last)",
      "\u001b[0;32m<ipython-input-6-d560b2d562ad>\u001b[0m in \u001b[0;36m<module>\u001b[0;34m\u001b[0m\n\u001b[0;32m----> 1\u001b[0;31m \u001b[0meq_balance\u001b[0m\u001b[0;34m(\u001b[0m\u001b[0;34m\"C7H16+O2->CO2+H2O\"\u001b[0m\u001b[0;34m)\u001b[0m\u001b[0;34m\u001b[0m\u001b[0;34m\u001b[0m\u001b[0m\n\u001b[0m",
      "\u001b[0;32m<ipython-input-5-eb8e1f619882>\u001b[0m in \u001b[0;36meq_balance\u001b[0;34m(eq)\u001b[0m\n\u001b[1;32m      2\u001b[0m \u001b[0;34m\u001b[0m\u001b[0m\n\u001b[1;32m      3\u001b[0m     \u001b[0mlist_for_dict\u001b[0m \u001b[0;34m=\u001b[0m \u001b[0mlist\u001b[0m\u001b[0;34m(\u001b[0m\u001b[0;34m'abcdefghijklmnopqrstuvwxyz'\u001b[0m\u001b[0;34m)\u001b[0m\u001b[0;34m\u001b[0m\u001b[0;34m\u001b[0m\u001b[0m\n\u001b[0;32m----> 4\u001b[0;31m     \u001b[0mSs\u001b[0m\u001b[0;34m,\u001b[0m \u001b[0mOs\u001b[0m\u001b[0;34m,\u001b[0m \u001b[0mEs\u001b[0m\u001b[0;34m,\u001b[0m \u001b[0ma\u001b[0m\u001b[0;34m,\u001b[0m \u001b[0mi\u001b[0m \u001b[0;34m=\u001b[0m \u001b[0mdefaultdict\u001b[0m\u001b[0;34m(\u001b[0m\u001b[0mlist\u001b[0m\u001b[0;34m)\u001b[0m\u001b[0;34m,\u001b[0m \u001b[0mlist_for_dict\u001b[0m\u001b[0;34m[\u001b[0m\u001b[0;34m:\u001b[0m\u001b[0;34m]\u001b[0m\u001b[0;34m,\u001b[0m \u001b[0;34m[\u001b[0m\u001b[0;34m]\u001b[0m\u001b[0;34m,\u001b[0m \u001b[0;36m1\u001b[0m\u001b[0;34m,\u001b[0m \u001b[0;36m1\u001b[0m\u001b[0;34m\u001b[0m\u001b[0;34m\u001b[0m\u001b[0m\n\u001b[0m\u001b[1;32m      5\u001b[0m \u001b[0;34m\u001b[0m\u001b[0m\n\u001b[1;32m      6\u001b[0m     \u001b[0;32mfor\u001b[0m \u001b[0mhs\u001b[0m \u001b[0;32min\u001b[0m \u001b[0meq\u001b[0m\u001b[0;34m.\u001b[0m\u001b[0msplit\u001b[0m\u001b[0;34m(\u001b[0m\u001b[0;34m'->'\u001b[0m\u001b[0;34m)\u001b[0m\u001b[0;34m:\u001b[0m    \u001b[0;31m# split the equation from '->' that is get LHS and RHS\u001b[0m\u001b[0;34m\u001b[0m\u001b[0;34m\u001b[0m\u001b[0m\n",
      "\u001b[0;31mNameError\u001b[0m: name 'defaultdict' is not defined"
     ]
    }
   ],
   "source": [
    "eq_balance(\"C7H16+O2->CO2+H2O\")"
   ]
  },
  {
   "cell_type": "code",
   "execution_count": 90,
   "metadata": {},
   "outputs": [
    {
     "name": "stdout",
     "output_type": "stream",
     "text": [
      "p:  H2+O2\n",
      "k:  H2\n",
      "c:  ['a', 1]\n",
      "m:  2\n",
      "a:  2\n",
      "d:  ['a', 2]\n",
      "Ss:  defaultdict(<class 'list'>, {'H': [['a', 2]]})\n",
      "Es:  [['H', ['a', 2]]]\n",
      "i:  1\n",
      "====================\n",
      "k:  O2\n",
      "c:  ['b', 1]\n",
      "m:  2\n",
      "a:  4\n",
      "d:  ['b', 2]\n",
      "Ss:  defaultdict(<class 'list'>, {'H': [['a', 2]], 'O': [['b', 2]]})\n",
      "Es:  [['O', ['b', 2]], ['H', ['a', 2]]]\n",
      "i:  1\n",
      "====================\n",
      "===========LHS and RHS===========\n",
      "p:  H2O\n",
      "k:  H2O\n",
      "c:  ['c', 1]\n",
      "m:  2\n",
      "a:  8\n",
      "d:  ['c', -2]\n",
      "Ss:  defaultdict(<class 'list'>, {'H': [['c', -2], ['a', 2]], 'O': [['b', 2]]})\n",
      "Es:  [['H', ['c', -2]], ['O', ['b', 2]], ['H', ['a', 2]]]\n",
      "i:  -1\n",
      "====================\n",
      "m:  1\n",
      "a:  8\n",
      "d:  ['c', -1]\n",
      "Ss:  defaultdict(<class 'list'>, {'H': [['c', -2], ['a', 2]], 'O': [['c', -1], ['b', 2]]})\n",
      "Es:  [['O', ['c', -1]], ['H', ['c', -2]], ['O', ['b', 2]], ['H', ['a', 2]]]\n",
      "i:  -1\n",
      "====================\n",
      "===========LHS and RHS===========\n",
      "Ys:  {'a': a, 'b': b, 'c': c}\n",
      "Qs:  [2*a - 2*c, 2*b - c, a - 8]\n",
      "k:  {a: 8, b: 4, c: 8}\n",
      "N:  [8, 4, 8]\n",
      "N[0::2]:  [8, 8]\n",
      "N[1::2]:  [4]\n",
      "g:  8\n",
      "g:  4\n",
      "N:  [2, 1, 2]\n",
      "====================\n",
      "ANSWER: \n",
      "2H2+O2->2H2O\n",
      "====================\n"
     ]
    }
   ],
   "source": [
    "eq_balance(\"H2+O2->H2O\")"
   ]
  },
  {
   "cell_type": "code",
   "execution_count": 91,
   "metadata": {},
   "outputs": [
    {
     "name": "stdout",
     "output_type": "stream",
     "text": [
      "p:  Cu\n",
      "k:  Cu\n",
      "c:  ['a', 1]\n",
      "m:  1\n",
      "a:  1\n",
      "d:  ['a', 1]\n",
      "Ss:  defaultdict(<class 'list'>, {'Cu': [['a', 1]]})\n",
      "Es:  [['Cu', ['a', 1]]]\n",
      "i:  1\n",
      "====================\n",
      "===========LHS and RHS===========\n",
      "p:  Au\n",
      "k:  Au\n",
      "c:  ['b', 1]\n",
      "m:  1\n",
      "a:  1\n",
      "d:  ['b', -1]\n",
      "Ss:  defaultdict(<class 'list'>, {'Cu': [['a', 1]], 'Au': [['b', -1]]})\n",
      "Es:  [['Au', ['b', -1]], ['Cu', ['a', 1]]]\n",
      "i:  -1\n",
      "====================\n",
      "===========LHS and RHS===========\n",
      "Ys:  {'a': a, 'b': b}\n",
      "Qs:  [a, -b, a - 1]\n",
      "k:  []\n",
      "Unable to balance equation\n"
     ]
    }
   ],
   "source": [
    "eq_balance(\"Cu->Au\")"
   ]
  },
  {
   "cell_type": "code",
   "execution_count": 28,
   "metadata": {},
   "outputs": [
    {
     "name": "stdout",
     "output_type": "stream",
     "text": [
      "hs:  C7H16+O2\n",
      "mol:  C7H16\n",
      "['', 'C', '7', '', 'H', '16', '']\n",
      "\n",
      "C\n",
      "7\n",
      "\n",
      "H\n",
      "16\n",
      "\n",
      "mol:  O2\n",
      "['', 'O', '2', '']\n",
      "\n",
      "O\n",
      "2\n",
      "\n",
      "hs:  CO2+H2O\n",
      "mol:  CO2\n",
      "['', 'C', '', '', 'O', '2', '']\n",
      "\n",
      "C\n",
      "\n",
      "\n",
      "O\n",
      "2\n",
      "\n",
      "mol:  H2O\n",
      "['', 'H', '2', '', 'O', '', '']\n",
      "\n",
      "H\n",
      "2\n",
      "\n",
      "O\n",
      "\n",
      "\n"
     ]
    }
   ],
   "source": [
    "import re\n",
    "\n",
    "def eq_balance(eq):\n",
    "  \n",
    "    for hs in eq.split('->'):    # split the equation from '->' that is get LHS and RHS\n",
    "        print('hs: ', hs)\n",
    "        for mol in hs.split('+'):  # get terms of the equation on each side of equation\n",
    "            print('mol: ',mol)\n",
    "            a = re.split(r'([A-Z][a-z]?)([0-9]*)', mol)\n",
    "            print(a)\n",
    "            for i in a:\n",
    "                print(i)\n",
    "                #if(i==''):\n",
    "                   #if(int(i+1>='A' and i+1<='Z' or i+1>='a' and i+1>='z'):\n",
    "                     # print(i+1)\n",
    "            \n",
    "eq_balance(\"C7H16+O2->CO2+H2O\")"
   ]
  }
 ],
 "metadata": {
  "kernelspec": {
   "display_name": "Python 3",
   "language": "python",
   "name": "python3"
  },
  "language_info": {
   "codemirror_mode": {
    "name": "ipython",
    "version": 2
   },
   "file_extension": ".py",
   "mimetype": "text/x-python",
   "name": "python",
   "nbconvert_exporter": "python",
   "pygments_lexer": "ipython2",
   "version": "2.7.16"
  }
 },
 "nbformat": 4,
 "nbformat_minor": 2
}
